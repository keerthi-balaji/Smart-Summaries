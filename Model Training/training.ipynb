{
 "cells": [
  {
   "cell_type": "code",
   "execution_count": 3,
   "id": "72887e2e-f9d8-47ce-af85-a1371c17bb76",
   "metadata": {},
   "outputs": [],
   "source": [
    "import pandas as pd\n",
    "\n",
    "# Direct upload\n",
    "df = pd.read_csv('cleaned_train.csv')"
   ]
  },
  {
   "cell_type": "code",
   "execution_count": 4,
   "id": "49becdf7-2ddc-41c2-8828-5ac99be122df",
   "metadata": {},
   "outputs": [],
   "source": [
    "from transformers import GPT2TokenizerFast, GPT2LMHeadModel, Trainer, TrainingArguments\n",
    "\n",
    "# Loading the GPT-2 fast tokenizer and model\n",
    "tokenizer = GPT2TokenizerFast.from_pretrained(\"gpt2\", use_fast=True)\n",
    "model = GPT2LMHeadModel.from_pretrained(\"gpt2\")"
   ]
  },
  {
   "cell_type": "code",
   "execution_count": 5,
   "id": "721ec6f2-2875-46c8-972b-088d0b04f73e",
   "metadata": {},
   "outputs": [],
   "source": [
    "from datasets import Dataset \n",
    "\n",
    "# Converted the DataFrame to a Dataset\n",
    "processed_dataset = Dataset.from_pandas(df)"
   ]
  },
  {
   "cell_type": "code",
   "execution_count": 6,
   "id": "0f839b24-3073-4e66-b75d-500a52e1c51b",
   "metadata": {},
   "outputs": [],
   "source": [
    "# Set eos_token as the padding token\n",
    "tokenizer.pad_token = tokenizer.eos_token\n"
   ]
  },
  {
   "cell_type": "code",
   "execution_count": 7,
   "id": "4db61ee6-2f55-43e9-9240-c6711bf53fec",
   "metadata": {},
   "outputs": [
    {
     "data": {
      "application/vnd.jupyter.widget-view+json": {
       "model_id": "a360044348514dd186d2fee26c697873",
       "version_major": 2,
       "version_minor": 0
      },
      "text/plain": [
       "Map:   0%|          | 0/115777 [00:00<?, ? examples/s]"
      ]
     },
     "metadata": {},
     "output_type": "display_data"
    }
   ],
   "source": [
    "# Define the sliding window tokenization function\n",
    "def tokenize_function_sliding_window(examples, max_length=512, stride=128):\n",
    "    tokens = tokenizer(\n",
    "        examples['article'],\n",
    "        truncation=False,\n",
    "        padding=False,\n",
    "        return_overflowing_tokens=True,\n",
    "        max_length=max_length,\n",
    "        stride=stride\n",
    "    )\n",
    "    input_ids = []\n",
    "    attention_mask = []\n",
    "    labels = []\n",
    "    for i in range(len(tokens['input_ids'])):\n",
    "        input_ids.append(tokens['input_ids'][i][:max_length])\n",
    "        attention_mask.append(tokens['attention_mask'][i][:max_length])\n",
    "        \n",
    "        # Padding manually\n",
    "        padding_length = max_length - len(input_ids[-1])\n",
    "        if padding_length > 0:\n",
    "            input_ids[-1] = input_ids[-1] + [tokenizer.pad_token_id] * padding_length\n",
    "            attention_mask[-1] = attention_mask[-1] + [0] * padding_length\n",
    "\n",
    "        labels.append(input_ids[-1])\n",
    "    \n",
    "    return {'input_ids': input_ids, 'attention_mask': attention_mask,  'labels': labels}\n",
    "\n",
    "\n",
    "# Applying the sliding window tokenization function to the dataset\n",
    "tokenized_dataset = processed_dataset.map(tokenize_function_sliding_window, batched=True)\n",
    "\n",
    "# Set the format for PyTorch tensors\n",
    "tokenized_dataset.set_format(type='torch', columns=['input_ids', 'attention_mask', 'labels'])"
   ]
  },
  {
   "cell_type": "code",
   "execution_count": 8,
   "id": "1e6bd437-1f0a-4250-9084-8459b09fa553",
   "metadata": {},
   "outputs": [],
   "source": [
    "from torch.utils.data import DataLoader\n",
    "\n",
    "train_dataloader = DataLoader(tokenized_dataset, batch_size=8, shuffle=True)"
   ]
  },
  {
   "cell_type": "code",
   "execution_count": 9,
   "id": "c45c1936-6dfc-4ecf-8624-b70524c1a1ee",
   "metadata": {},
   "outputs": [],
   "source": [
    "from transformers import TrainingArguments, GPT2LMHeadModel, Trainer\n",
    "\n",
    "training_args = TrainingArguments(\n",
    "    output_dir=\"./results\",\n",
    "    eval_strategy=\"epoch\",\n",
    "    learning_rate=5e-5,\n",
    "    per_device_train_batch_size=8,\n",
    "    per_device_eval_batch_size=8,\n",
    "    num_train_epochs=3,\n",
    "    weight_decay=0.01,\n",
    "    logging_dir='./logs',\n",
    "    logging_steps=10,\n",
    "    fp16=True,  # Enable mixed precision training\n",
    "    gradient_accumulation_steps=2  # Gradient accumulation\n",
    ")\n",
    "\n",
    "model = GPT2LMHeadModel.from_pretrained(\"gpt2\")\n",
    "\n",
    "trainer = Trainer(\n",
    "    model=model,\n",
    "    args=training_args,\n",
    "    train_dataset=tokenized_dataset,\n",
    "    tokenizer=tokenizer\n",
    ")"
   ]
  },
  {
   "cell_type": "code",
   "execution_count": null,
   "id": "7f02fda2-be77-444d-ba5c-d4c8ac8d3b40",
   "metadata": {},
   "outputs": [
    {
     "data": {
      "text/html": [
       "\n",
       "    <div>\n",
       "      \n",
       "      <progress value='111' max='21708' style='width:300px; height:20px; vertical-align: middle;'></progress>\n",
       "      [  111/21708 7:19:18 < 1450:42:40, 0.00 it/s, Epoch 0.02/3]\n",
       "    </div>\n",
       "    <table border=\"1\" class=\"dataframe\">\n",
       "  <thead>\n",
       " <tr style=\"text-align: left;\">\n",
       "      <th>Epoch</th>\n",
       "      <th>Training Loss</th>\n",
       "      <th>Validation Loss</th>\n",
       "    </tr>\n",
       "  </thead>\n",
       "  <tbody>\n",
       "  </tbody>\n",
       "</table><p>"
      ],
      "text/plain": [
       "<IPython.core.display.HTML object>"
      ]
     },
     "metadata": {},
     "output_type": "display_data"
    }
   ],
   "source": [
    "trainer.train()"
   ]
  },
  {
   "cell_type": "code",
   "execution_count": null,
   "id": "a4e108e9-7db1-4c5f-9876-b6e5e2fd070e",
   "metadata": {},
   "outputs": [],
   "source": [
    "# Save the model and tokenizer\n",
    "model.save_pretrained(\"./results\")\n",
    "tokenizer.save_pretrained(\"./results\")"
   ]
  },
  {
   "cell_type": "code",
   "execution_count": null,
   "id": "375d7af1-bf8b-46a7-ae28-6f32dc1b05eb",
   "metadata": {},
   "outputs": [],
   "source": [
    "# Push the model and tokenizer to the Hugging Face Hub\n",
    "from huggingface_hub import HfApi, HfFolder\n",
    "\n",
    "# Make sure you are logged in\n",
    "api = HfApi()\n",
    "user = HfFolder.get_token()\n",
    "repo_id = f\"{user}/finetuned-gpt2-smart-summary\"\n",
    "\n",
    "model.push_to_hub(repo_id)\n",
    "tokenizer.push_to_hub(repo_id)"
   ]
  },
  {
   "cell_type": "code",
   "execution_count": null,
   "id": "33eab4e5-1bec-44b9-8426-ac78370aa066",
   "metadata": {},
   "outputs": [],
   "source": []
  }
 ],
 "metadata": {
  "kernelspec": {
   "display_name": "Python 3 (ipykernel)",
   "language": "python",
   "name": "python3"
  },
  "language_info": {
   "codemirror_mode": {
    "name": "ipython",
    "version": 3
   },
   "file_extension": ".py",
   "mimetype": "text/x-python",
   "name": "python",
   "nbconvert_exporter": "python",
   "pygments_lexer": "ipython3",
   "version": "3.12.3"
  }
 },
 "nbformat": 4,
 "nbformat_minor": 5
}
